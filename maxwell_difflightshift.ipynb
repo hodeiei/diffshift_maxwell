{
 "cells": [
  {
   "cell_type": "code",
   "execution_count": null,
   "metadata": {},
   "outputs": [
    {
     "ename": "ModuleNotFoundError",
     "evalue": "No module named 'numpy'",
     "output_type": "error",
     "traceback": [
      "\u001b[31m---------------------------------------------------------------------------\u001b[39m",
      "\u001b[31mModuleNotFoundError\u001b[39m                       Traceback (most recent call last)",
      "\u001b[36mCell\u001b[39m\u001b[36m \u001b[39m\u001b[32mIn[1]\u001b[39m\u001b[32m, line 1\u001b[39m\n\u001b[32m----> \u001b[39m\u001b[32m1\u001b[39m \u001b[38;5;28;01mimport\u001b[39;00m\u001b[38;5;250m \u001b[39m\u001b[34;01mnumpy\u001b[39;00m\u001b[38;5;250m \u001b[39m\u001b[38;5;28;01mas\u001b[39;00m\u001b[38;5;250m \u001b[39m\u001b[34;01mnp\u001b[39;00m\n\u001b[32m      2\u001b[39m \u001b[38;5;28;01mimport\u001b[39;00m\u001b[38;5;250m \u001b[39m\u001b[34;01mscipy\u001b[39;00m\u001b[34;01m.\u001b[39;00m\u001b[34;01mconstants\u001b[39;00m\u001b[38;5;250m \u001b[39m\u001b[38;5;28;01mas\u001b[39;00m\u001b[38;5;250m \u001b[39m\u001b[34;01msc\u001b[39;00m\n\u001b[32m      3\u001b[39m \u001b[38;5;28;01mfrom\u001b[39;00m\u001b[38;5;250m \u001b[39m\u001b[34;01mscipy\u001b[39;00m\u001b[34;01m.\u001b[39;00m\u001b[34;01mstats\u001b[39;00m\u001b[38;5;250m \u001b[39m\u001b[38;5;28;01mimport\u001b[39;00m gamma\n",
      "\u001b[31mModuleNotFoundError\u001b[39m: No module named 'numpy'"
     ]
    }
   ],
   "source": [
    "import numpy as np\n",
    "import scipy.constants as sc\n",
    "from scipy.stats import gamma\n",
    "from scipy.optimize import curve_fit \n",
    "import matplotlib.pyplot as plt \n",
    "\n",
    "#Define laser frequency and detunings\n",
    "\n",
    "tweezerfrequency =356 #THz  \n",
    "deltaP=384.23-377.11#THz \n",
    "deltat=377.11- tweezerfrequency#THz \n",
    "\n",
    "delta_eff=((2/(deltaP+deltat)+1/deltat)/3)**-1 #THz Beugnon's thesis page 34 (effective detuning from weighted average of D1 and D2 lines)\n",
    "whfs=6.8*1e-3\n",
    "eta= whfs/delta_eff #scaling factor\n",
    "print(\"Scaling factor: \", eta)\n",
    "\n",
    "N=100000\n",
    "U0= 10*1e6 # trap depth in Hz \n",
    "delta_0=-eta*U0 #differential light shift at the trap bottom\n",
    "\n",
    "print(\"Max diff. lightshift: \",delta_0) co\n",
    "alpha=3\n",
    "T=10*1e-6 #atom temperature in Kelvin\n",
    "K = 2*sc.hbar/(T*sc.k*eta) #parameter from Analysis of dephasing mechanisms in a standing wave dipole trap (Kurh et al.)\n",
    "theta = 1/K\n",
    "\n",
    "#Define gamma distribution parameters for Maxwell-Boltzmann\n",
    "sample = gamma.rvs(a=alpha, scale=theta, size=N) \n",
    "sample_final = (sample + delta_0)\n",
    "\n",
    "\n",
    "plt.hist(sample_final, bins=100, density=True, alpha=0.8, color='b', label='Histogram')\n",
    "\n",
    "x = np.linspace(min(sample_final), max(sample_final), N)\n",
    "pdf = gamma.pdf(x-delta_0, a=alpha, scale=theta) #Probability density function\n",
    "plt.plot(x, pdf, 'r', label='Probability Density Function of Diff. Light Shifts')\n",
    "\n",
    "plt.xlabel(r\"Diffetential light shift $\\delta_{ls}$ in (Hz) \")\n",
    "plt.legend()\n",
    "\n",
    "plt.grid(True)\n",
    "plt.show()\n"
   ]
  }
 ],
 "metadata": {
  "kernelspec": {
   "display_name": ".venv",
   "language": "python",
   "name": "python3"
  },
  "language_info": {
   "codemirror_mode": {
    "name": "ipython",
    "version": 3
   },
   "file_extension": ".py",
   "mimetype": "text/x-python",
   "name": "python",
   "nbconvert_exporter": "python",
   "pygments_lexer": "ipython3",
   "version": "3.12.10"
  }
 },
 "nbformat": 4,
 "nbformat_minor": 2
}
